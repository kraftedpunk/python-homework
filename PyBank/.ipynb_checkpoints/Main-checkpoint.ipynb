{
 "cells": [
  {
   "cell_type": "code",
   "execution_count": 1,
   "id": "02460567-927a-46ed-ab67-de42e4c09379",
   "metadata": {},
   "outputs": [],
   "source": [
    "#importing all the needed packages\n",
    "import pandas as pd\n",
    "from pathlib import Path\n",
    "import numpy as np\n",
    "\n",
    "\n"
   ]
  },
  {
   "cell_type": "code",
   "execution_count": 2,
   "id": "7fee5647-4876-4599-a66c-2887e7b64f71",
   "metadata": {},
   "outputs": [
    {
     "data": {
      "text/plain": [
       "<bound method NDFrame.tail of         Date  Profit/Losses\n",
       "0   Jan-2010         867884\n",
       "1   Feb-2010         984655\n",
       "2   Mar-2010         322013\n",
       "3   Apr-2010         -69417\n",
       "4   May-2010         310503\n",
       "..       ...            ...\n",
       "81  Oct-2016         102685\n",
       "82  Nov-2016         795914\n",
       "83  Dec-2016          60988\n",
       "84  Jan-2017         138230\n",
       "85  Feb-2017         671099\n",
       "\n",
       "[86 rows x 2 columns]>"
      ]
     },
     "execution_count": 2,
     "metadata": {},
     "output_type": "execute_result"
    }
   ],
   "source": [
    "#reading the csv files\n",
    "budget_data_path = Path(r'C:\\Users\\jleon\\Desktop\\python-homework\\PyBank\\budget_data.csv')\n",
    "budget_data= pd.read_csv(budget_data_path, parse_dates=True, infer_datetime_format=True)\n",
    "#finding the top and bottom of the budget data cvs so i can find the number of months\n",
    "budget_data.head()\n",
    "budget_data.tail\n"
   ]
  },
  {
   "cell_type": "code",
   "execution_count": 3,
   "id": "4839e7ed-c68d-4160-9ca7-3458877a47e2",
   "metadata": {},
   "outputs": [
    {
     "name": "stdout",
     "output_type": "stream",
     "text": [
      "86\n"
     ]
    }
   ],
   "source": [
    "#shape will give me the rows and columns in a list, i use index 0 because it will reuturn the number of rows, which in this case is months\n",
    "shapeList=budget_data.shape\n",
    "months=shapeList[0]\n",
    "print(months)"
   ]
  },
  {
   "cell_type": "code",
   "execution_count": 4,
   "id": "407482ae-eea3-46f3-8343-a047bc01f040",
   "metadata": {
    "tags": []
   },
   "outputs": [
    {
     "name": "stdout",
     "output_type": "stream",
     "text": [
      "38382578\n"
     ]
    }
   ],
   "source": [
    "#initialize the totalprofit variable\n",
    "totalprofits=0\n",
    "#now that i know the max number of rows i can use the function range in a for loop\n",
    "for i in range(86):\n",
    "    #loop goes through each value in the 'Profit/Losses' column and adds it to find the total profits/losses\n",
    "    totalprofits=totalprofits + budget_data['Profit/Losses'][i]\n",
    "print(totalprofits)\n",
    "\n"
   ]
  },
  {
   "cell_type": "code",
   "execution_count": 5,
   "id": "eb063180-9bde-4a97-a6c9-55f7deb91900",
   "metadata": {},
   "outputs": [
    {
     "name": "stdout",
     "output_type": "stream",
     "text": [
      "85\n",
      "[  116771.  -662642.  -391430.   379920.   212354.   510239.  -428211.\n",
      "  -821271.   693918.   416278.  -974163.   860159. -1115009.  1033048.\n",
      "    95318.  -308093.    99052.  -521393.   605450.   231727.   -65187.\n",
      "  -702716.   177975. -1065544.  1926159.  -917805.   898730.  -334262.\n",
      "  -246499.   -64055. -1529236.  1497596.   304914.  -635801.   398319.\n",
      "  -183161.   -37864.  -253689.   403655.    94168.   306877.   -83000.\n",
      "   210462. -2196167.  1465222.  -956983.  1838447.  -468003.   -64602.\n",
      "   206242.  -242155.  -449079.   315198.   241099.   111540.   365942.\n",
      "  -219310.  -368665.   409837.   151210.  -110244.  -341938. -1212159.\n",
      "   683246.   -70825.   335594.   417334.  -272194.  -236462.   657432.\n",
      "  -211262.  -128237. -1750387.   925441.   932089.  -311434.   267252.\n",
      " -1876758.  1733696.   198551.  -665765.   693229.  -734926.    77242.\n",
      "   532869.]\n"
     ]
    }
   ],
   "source": [
    "#used a modified version of daily return function used in class since i dont need percentages\n",
    "daily_returns = (budget_data['Profit/Losses'] - budget_data['Profit/Losses'].shift(1))\n",
    "\n",
    "#dropped the very first NAN value since theres no change for the first value it becomes NAN\n",
    "daily_returns=daily_returns.dropna()\n",
    "\n",
    "#get the shape of the new daily_returns to use it in the next for loop, smae as before\n",
    "daily_rows=daily_returns.shape[0]\n",
    "print(daily_rows)\n",
    "\n",
    "#here i found out that daily_returns comes out as a series after a lot fo errors, so I had to adjust my code accordingly\n",
    "type(daily_returns)\n",
    "#created dailyarray as an array version of daily_returns so i can call it more easily, im not familiar with series\n",
    "dailyarray=daily_returns.values\n",
    "#printed daily array to check my work\n",
    "print(dailyarray)"
   ]
  },
  {
   "cell_type": "code",
   "execution_count": 6,
   "id": "1b687c65-25f7-40b2-aaab-6d5e54ba5ce1",
   "metadata": {},
   "outputs": [
    {
     "name": "stdout",
     "output_type": "stream",
     "text": [
      "-196785.0\n",
      "-2315.12\n"
     ]
    }
   ],
   "source": [
    "#initialized total change\n",
    "totalchange=0\n",
    "#loop goes through array to find the total change in profits/losses\n",
    "for i in range(85):\n",
    "    \n",
    "    totalchange=totalchange + dailyarray[i]\n",
    "#print to check my work\n",
    "print(totalchange)\n",
    "#intitialize average change to find the average change\n",
    "average_change=round(totalchange/85,2)\n",
    "#print to check my work\n",
    "print(average_change)"
   ]
  },
  {
   "cell_type": "code",
   "execution_count": 7,
   "id": "e361dfd1-c165-4677-9472-614fc1442fc6",
   "metadata": {},
   "outputs": [
    {
     "name": "stdout",
     "output_type": "stream",
     "text": [
      "1926159.0\n",
      "Feb-2012\n"
     ]
    }
   ],
   "source": [
    "#found the idxmax and idxmin functions online, helped me find the index of the max value in daily returns\n",
    "maxindex=daily_returns.idxmax()\n",
    "maxValue=daily_returns[maxindex]\n",
    "print(maxValue)\n",
    "#i found the index first, and not the value because i wanted the index to find the date on the original budget_data function\n",
    "print(budget_data['Date'][maxindex])"
   ]
  },
  {
   "cell_type": "code",
   "execution_count": 8,
   "id": "fc790256-3c83-4684-b25a-a28824151a2d",
   "metadata": {},
   "outputs": [
    {
     "name": "stdout",
     "output_type": "stream",
     "text": [
      "-2196167.0\n",
      "Sep-2013\n"
     ]
    }
   ],
   "source": [
    "#found the idxmax and idxmin functions online, helped me find the index of the max value in daily returns\n",
    "minindex=daily_returns.idxmin()\n",
    "minValue=daily_returns[minindex]\n",
    "print(minValue)\n",
    "\n",
    "#i found the index first, and not the value because i wanted the index to find the date on the original budget_data function\n",
    "print(budget_data['Date'][minindex])"
   ]
  },
  {
   "cell_type": "code",
   "execution_count": 10,
   "id": "668bcd4b-e098-42a6-b6d2-e973638cfa23",
   "metadata": {},
   "outputs": [
    {
     "name": "stdout",
     "output_type": "stream",
     "text": [
      "Financial Analysis\n",
      "------------------\n",
      "Total Months: 86\n",
      "Total: $38382578\n",
      "Average Change: $-2315.12\n",
      "Greatest Increase in Profits: Feb-2012 $1926159\n",
      "Greatest Decrease in Profits: Sep-2013 $-2196167\n"
     ]
    }
   ],
   "source": [
    "print(\"Financial Analysis\")\n",
    "print(\"------------------\")\n",
    "print(f\"Total Months: {months}\")\n",
    "print(f\"Total: ${totalprofits}\")\n",
    "print(f\"Average Change: ${average_change}\")\n",
    "print(f\"Greatest Increase in Profits: {budget_data['Date'][maxindex]} ${int(maxValue)}\")\n",
    "print(f\"Greatest Decrease in Profits: {budget_data['Date'][minindex]} ${int(minValue)}\")"
   ]
  },
  {
   "cell_type": "code",
   "execution_count": 24,
   "id": "484c9169-4f86-4113-bd93-ea671f18e423",
   "metadata": {},
   "outputs": [],
   "source": [
    "pathtofile=r'C:\\Users\\jleon\\Desktop\\python-homework\\PyBank\\financialanalysis.txt'\n",
    "\n",
    "with open(pathtofile, 'w') as f:\n",
    "    f.write(\"Financial Analysis\\n\")\n",
    "\n",
    "    f.write(\"------------------\\n\")\n",
    "\n",
    "    f.write(f\"Total Months: {months}\\n\")\n",
    "\n",
    "    f.write(f\"Total: ${totalprofits}\\n\")\n",
    "\n",
    "    f.write(f\"Average Change: ${average_change}\\n\")\n",
    "\n",
    "    f.write(f\"Greatest Increase in Profits: {budget_data['Date'][maxindex]} ${int(maxValue)}\\n\")\n",
    "\n",
    "    f.write(f\"Greatest Decrease in Profits: {budget_data['Date'][minindex]} ${int(minValue)}\")\n"
   ]
  },
  {
   "cell_type": "code",
   "execution_count": null,
   "id": "64e71038-bd1e-409a-af82-4e547b3f8d1a",
   "metadata": {},
   "outputs": [],
   "source": []
  }
 ],
 "metadata": {
  "kernelspec": {
   "display_name": "Python 3 (ipykernel)",
   "language": "python",
   "name": "python3"
  },
  "language_info": {
   "codemirror_mode": {
    "name": "ipython",
    "version": 3
   },
   "file_extension": ".py",
   "mimetype": "text/x-python",
   "name": "python",
   "nbconvert_exporter": "python",
   "pygments_lexer": "ipython3",
   "version": "3.8.8"
  }
 },
 "nbformat": 4,
 "nbformat_minor": 5
}
